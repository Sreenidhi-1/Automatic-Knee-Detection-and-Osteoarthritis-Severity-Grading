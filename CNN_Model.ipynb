{
 "cells": [
  {
   "cell_type": "markdown",
   "metadata": {},
   "source": [
    "### Import libraries"
   ]
  },
  {
   "cell_type": "code",
   "execution_count": 1,
   "metadata": {},
   "outputs": [],
   "source": [
    "import tensorflow as tf\n",
    "from tensorflow.keras.models import load_model,save_model\n",
    "from tensorflow.keras.preprocessing import image\n",
    "from tensorflow.keras.models import Model, Sequential\n",
    "from tensorflow.keras.applications import DenseNet201\n",
    "from tensorflow.keras.layers import Input, Dense, Dropout, BatchNormalization, Flatten, Activation, GlobalAveragePooling2D,Conv2D, MaxPooling2D\n",
    "from tensorflow.keras.callbacks import EarlyStopping, ModelCheckpoint"
   ]
  },
  {
   "cell_type": "code",
   "execution_count": 2,
   "metadata": {},
   "outputs": [],
   "source": [
    "def define_model(width, height):\n",
    "    input_tensor = Input(shape=(224, 224, 3))\n",
    "    base_model = DenseNet201(input_tensor=input_tensor, weights='imagenet', include_top=False)\n",
    "    \n",
    "    for layer in base_model.layers:\n",
    "        layer.trainable = False\n",
    "    \n",
    "    model = Sequential([\n",
    "        base_model,\n",
    "        GlobalAveragePooling2D(),\n",
    "        BatchNormalization(),\n",
    "        Dense(128,activation='relu'),\n",
    "        BatchNormalization(),\n",
    "        Dropout(0.3),\n",
    "        Dense(64,activation='relu'),\n",
    "        BatchNormalization(),\n",
    "        Dropout(0.3),\n",
    "        Dense(5, activation='softmax')\n",
    "    ])\n",
    "    return model"
   ]
  },
  {
   "cell_type": "code",
   "execution_count": null,
   "metadata": {},
   "outputs": [],
   "source": [
    "nb_epoch     = 30\n",
    "batch_size   = 32\n",
    "width        = 224\n",
    "height       = 224"
   ]
  },
  {
   "cell_type": "code",
   "execution_count": 3,
   "metadata": {},
   "outputs": [],
   "source": [
    "def define_generators():\n",
    "    train_datagen = tf.keras.preprocessing.image.ImageDataGenerator(\n",
    "    rescale=1./255,\n",
    "#     width_shift_range=0.2,\n",
    "#     height_shift_range=0.2,\n",
    "#     rotation_range=10,\n",
    "#     vertical_flip = True,\n",
    "#     horizontal_flip=True,\n",
    "#     fill_mode='nearest',\n",
    "    validation_split=0.0\n",
    "    )\n",
    "\n",
    "    train_generator = train_datagen.flow_from_directory(\n",
    "        directory= r\"Dataset_kneeKL299\\train\",\n",
    "        target_size=(width, height),\n",
    "        batch_size=batch_size,\n",
    "        color_mode='rgb',\n",
    "        class_mode=\"categorical\",\n",
    "        subset='training'\n",
    "    )\n",
    "\n",
    "    validation_generator = train_datagen.flow_from_directory(\n",
    "        directory= r\"Dataset_kneeKL299\\val\",\n",
    "        target_size=(width, height),\n",
    "        batch_size=batch_size,\n",
    "        color_mode='rgb',\n",
    "class_mode=\"categorical\",\n",
    "        subset='validation'\n",
    "    )\n",
    "\n",
    "    test_datagen = tf.keras.preprocessing.image.ImageDataGenerator(rescale=1./255)\n",
    "\n",
    "    test_generator = test_datagen.flow_from_directory(\n",
    "        directory= r\"Dataset_kneeKL299\",\n",
    "        target_size=(width, height),\n",
    "        color_mode='rgb',\n",
    "        shuffle=False,\n",
    "        class_mode='categorical')\n",
    "\n",
    "    return train_generator, validation_generator, test_generator"
   ]
  },
  {
   "cell_type": "code",
   "execution_count": 5,
   "metadata": {},
   "outputs": [
    {
     "name": "stdout",
     "output_type": "stream",
     "text": [
      "Model: \"sequential\"\n",
      "_________________________________________________________________\n",
      " Layer (type)                Output Shape              Param #   \n",
      "=================================================================\n",
      " densenet201 (Functional)    (None, 7, 7, 1920)        18321984  \n",
      "                                                                 \n",
      " global_average_pooling2d (G  (None, 1920)             0         \n",
      " lobalAveragePooling2D)                                          \n",
      "                                                                 \n",
      " batch_normalization (BatchN  (None, 1920)             7680      \n",
      " ormalization)                                                   \n",
      "                                                                 \n",
      " dense (Dense)               (None, 128)               245888    \n",
      "                                                                 \n",
      " batch_normalization_1 (Batc  (None, 128)              512       \n",
      " hNormalization)                                                 \n",
      "                                                                 \n",
      " dropout (Dropout)           (None, 128)               0         \n",
      "                                                                 \n",
      " dense_1 (Dense)             (None, 64)                8256      \n",
      "                                                                 \n",
      " batch_normalization_2 (Batc  (None, 64)               256       \n",
      " hNormalization)                                                 \n",
      "                                                                 \n",
      " dropout_1 (Dropout)         (None, 64)                0         \n",
      "                                                                 \n",
      " dense_2 (Dense)             (None, 5)                 325       \n",
      "                                                                 \n",
      "=================================================================\n",
      "Total params: 18,584,901\n",
      "Trainable params: 258,693\n",
      "Non-trainable params: 18,326,208\n",
      "_________________________________________________________________\n",
      "Found 5778 images belonging to 5 classes.\n",
      "Found 0 images belonging to 5 classes.\n",
      "Found 1656 images belonging to 5 classes.\n"
     ]
    },
    {
     "name": "stderr",
     "output_type": "stream",
     "text": [
      "C:\\Users\\ADMIN\\anaconda3\\envs\\tf_new\\lib\\site-packages\\keras\\optimizers\\optimizer_v2\\adam.py:114: UserWarning: The `lr` argument is deprecated, use `learning_rate` instead.\n",
      "  super().__init__(name, **kwargs)\n"
     ]
    },
    {
     "name": "stdout",
     "output_type": "stream",
     "text": [
      "Epoch 1/30\n",
      "181/181 [==============================] - 46s 177ms/step - loss: 2.1147 - accuracy: 0.2676\n",
      "Epoch 2/30\n",
      "181/181 [==============================] - 34s 186ms/step - loss: 1.7664 - accuracy: 0.3517\n",
      "Epoch 3/30\n",
      "181/181 [==============================] - 35s 191ms/step - loss: 1.5904 - accuracy: 0.4067\n",
      "Epoch 4/30\n",
      "181/181 [==============================] - 37s 201ms/step - loss: 1.5100 - accuracy: 0.4375\n",
      "Epoch 5/30\n",
      "181/181 [==============================] - 36s 199ms/step - loss: 1.4108 - accuracy: 0.4637\n",
      "Epoch 6/30\n",
      "181/181 [==============================] - 37s 202ms/step - loss: 1.3449 - accuracy: 0.4884\n",
      "Epoch 7/30\n",
      "181/181 [==============================] - 37s 206ms/step - loss: 1.2984 - accuracy: 0.5064\n",
      "Epoch 8/30\n",
      "181/181 [==============================] - 38s 209ms/step - loss: 1.2723 - accuracy: 0.5064\n",
      "Epoch 9/30\n",
      "181/181 [==============================] - 38s 212ms/step - loss: 1.2162 - accuracy: 0.5254\n",
      "Epoch 10/30\n",
      "181/181 [==============================] - 39s 214ms/step - loss: 1.1673 - accuracy: 0.5443\n",
      "Epoch 11/30\n",
      "181/181 [==============================] - 39s 216ms/step - loss: 1.1503 - accuracy: 0.5543\n",
      "Epoch 12/30\n",
      "181/181 [==============================] - 40s 219ms/step - loss: 1.1111 - accuracy: 0.5682\n",
      "Epoch 13/30\n",
      "181/181 [==============================] - 40s 220ms/step - loss: 1.1064 - accuracy: 0.5701\n",
      "Epoch 14/30\n",
      "181/181 [==============================] - 42s 230ms/step - loss: 1.0535 - accuracy: 0.5843\n",
      "Epoch 15/30\n",
      "181/181 [==============================] - 37s 201ms/step - loss: 1.0374 - accuracy: 0.5942\n",
      "Epoch 16/30\n",
      "181/181 [==============================] - 40s 222ms/step - loss: 1.0034 - accuracy: 0.5935\n",
      "Epoch 17/30\n",
      "181/181 [==============================] - 42s 231ms/step - loss: 1.0017 - accuracy: 0.6075\n",
      "Epoch 18/30\n",
      "181/181 [==============================] - 46s 252ms/step - loss: 0.9589 - accuracy: 0.6205\n",
      "Epoch 19/30\n",
      "181/181 [==============================] - 52s 276ms/step - loss: 0.9387 - accuracy: 0.6288\n",
      "Epoch 20/30\n",
      "181/181 [==============================] - 52s 289ms/step - loss: 0.9273 - accuracy: 0.6341\n",
      "Epoch 21/30\n",
      "181/181 [==============================] - 44s 242ms/step - loss: 0.9040 - accuracy: 0.6402\n",
      "Epoch 22/30\n",
      "181/181 [==============================] - 30s 166ms/step - loss: 0.8952 - accuracy: 0.6457\n",
      "Epoch 23/30\n",
      "181/181 [==============================] - 30s 165ms/step - loss: 0.8548 - accuracy: 0.6523\n",
      "Epoch 24/30\n",
      "181/181 [==============================] - 30s 168ms/step - loss: 0.8525 - accuracy: 0.6599\n",
      "Epoch 25/30\n",
      "181/181 [==============================] - 34s 190ms/step - loss: 0.8320 - accuracy: 0.6691\n",
      "Epoch 26/30\n",
      "181/181 [==============================] - 41s 226ms/step - loss: 0.8155 - accuracy: 0.6738\n",
      "Epoch 27/30\n",
      "181/181 [==============================] - 42s 234ms/step - loss: 0.7874 - accuracy: 0.6876\n",
      "Epoch 28/30\n",
      "181/181 [==============================] - 45s 250ms/step - loss: 0.7707 - accuracy: 0.6933\n",
      "Epoch 29/30\n",
      "181/181 [==============================] - 43s 237ms/step - loss: 0.7607 - accuracy: 0.7001\n",
      "Epoch 30/30\n",
      "181/181 [==============================] - 47s 258ms/step - loss: 0.7578 - accuracy: 0.6973\n"
     ]
    },
    {
     "data": {
      "text/plain": [
       "<keras.callbacks.History at 0x1f2002369b0>"
      ]
     },
     "execution_count": 5,
     "metadata": {},
     "output_type": "execute_result"
    }
   ],
   "source": [
    "model = define_model(width, height)\n",
    "model.summary()\n",
    "train_generator, validation_generator, test_generator = define_generators()\n",
    "\n",
    "\n",
    "model.compile(optimizer=tf.keras.optimizers.Adam(lr=0.0001), loss='categorical_crossentropy',\n",
    "              metrics=['accuracy'])\n",
    "\n",
    "model.fit(\n",
    "    train_generator,\n",
    "    epochs=nb_epoch\n",
    ")"
   ]
  },
  {
   "cell_type": "code",
   "execution_count": 6,
   "metadata": {},
   "outputs": [
    {
     "name": "stdout",
     "output_type": "stream",
     "text": [
      "52/52 [==============================] - 15s 182ms/step - loss: 1.1632 - accuracy: 0.5471\n"
     ]
    },
    {
     "data": {
      "text/plain": [
       "[1.1632053852081299, 0.5471014380455017]"
      ]
     },
     "execution_count": 6,
     "metadata": {},
     "output_type": "execute_result"
    }
   ],
   "source": [
    "model.evaluate(test_generator)"
   ]
  },
  {
   "cell_type": "code",
   "execution_count": 7,
   "metadata": {},
   "outputs": [],
   "source": [
    "save_model(model, \"DenseNet201.h5\")"
   ]
  },
  {
   "cell_type": "code",
   "execution_count": 8,
   "metadata": {},
   "outputs": [],
   "source": [
    "model = load_model('DenseNet201.h5')\n",
    "\n",
    "model.compile(optimizer=tf.keras.optimizers.Adam(lr=0.0001), loss='categorical_crossentropy',\n",
    "              metrics=['accuracy'])"
   ]
  },
  {
   "cell_type": "code",
   "execution_count": 9,
   "metadata": {},
   "outputs": [
    {
     "name": "stdout",
     "output_type": "stream",
     "text": [
      "Epoch 1/30\n",
      "181/181 [==============================] - 46s 168ms/step - loss: 0.7585 - accuracy: 0.6966\n",
      "Epoch 2/30\n",
      "181/181 [==============================] - 34s 188ms/step - loss: 0.7259 - accuracy: 0.7160\n",
      "Epoch 3/30\n",
      "181/181 [==============================] - 39s 214ms/step - loss: 0.7273 - accuracy: 0.7066\n",
      "Epoch 4/30\n",
      "181/181 [==============================] - 36s 197ms/step - loss: 0.7095 - accuracy: 0.7195\n",
      "Epoch 5/30\n",
      "181/181 [==============================] - 44s 243ms/step - loss: 0.6762 - accuracy: 0.7345\n",
      "Epoch 6/30\n",
      "181/181 [==============================] - 49s 270ms/step - loss: 0.6831 - accuracy: 0.7331\n",
      "Epoch 7/30\n",
      "181/181 [==============================] - 57s 317ms/step - loss: 0.6485 - accuracy: 0.7435\n",
      "Epoch 8/30\n",
      "181/181 [==============================] - 59s 327ms/step - loss: 0.6464 - accuracy: 0.7442\n",
      "Epoch 9/30\n",
      "181/181 [==============================] - 59s 327ms/step - loss: 0.6280 - accuracy: 0.7482\n",
      "Epoch 10/30\n",
      "181/181 [==============================] - 50s 274ms/step - loss: 0.6033 - accuracy: 0.7634\n",
      "Epoch 11/30\n",
      "181/181 [==============================] - 58s 319ms/step - loss: 0.6170 - accuracy: 0.7645\n",
      "Epoch 12/30\n",
      "181/181 [==============================] - 42s 234ms/step - loss: 0.5820 - accuracy: 0.7714\n",
      "Epoch 13/30\n",
      "181/181 [==============================] - 54s 300ms/step - loss: 0.5698 - accuracy: 0.7741\n",
      "Epoch 14/30\n",
      "181/181 [==============================] - 60s 329ms/step - loss: 0.5698 - accuracy: 0.7769\n",
      "Epoch 15/30\n",
      "181/181 [==============================] - 56s 312ms/step - loss: 0.5490 - accuracy: 0.7873\n",
      "Epoch 16/30\n",
      "181/181 [==============================] - 63s 349ms/step - loss: 0.5465 - accuracy: 0.7883\n",
      "Epoch 17/30\n",
      "181/181 [==============================] - 41s 227ms/step - loss: 0.5435 - accuracy: 0.7873\n",
      "Epoch 18/30\n",
      "181/181 [==============================] - 49s 268ms/step - loss: 0.5262 - accuracy: 0.7975\n",
      "Epoch 19/30\n",
      "181/181 [==============================] - 51s 280ms/step - loss: 0.5151 - accuracy: 0.8025\n",
      "Epoch 20/30\n",
      "181/181 [==============================] - 49s 271ms/step - loss: 0.5017 - accuracy: 0.8143\n",
      "Epoch 21/30\n",
      "181/181 [==============================] - 56s 309ms/step - loss: 0.4826 - accuracy: 0.8219\n",
      "Epoch 22/30\n",
      "181/181 [==============================] - 32s 174ms/step - loss: 0.4894 - accuracy: 0.8164\n",
      "Epoch 23/30\n",
      "181/181 [==============================] - 30s 167ms/step - loss: 0.4721 - accuracy: 0.8205\n",
      "Epoch 24/30\n",
      "181/181 [==============================] - 30s 167ms/step - loss: 0.4613 - accuracy: 0.8311\n",
      "Epoch 25/30\n",
      "181/181 [==============================] - 32s 179ms/step - loss: 0.4372 - accuracy: 0.8344\n",
      "Epoch 26/30\n",
      "181/181 [==============================] - 37s 201ms/step - loss: 0.4649 - accuracy: 0.8249\n",
      "Epoch 27/30\n",
      "181/181 [==============================] - 43s 238ms/step - loss: 0.4498 - accuracy: 0.8273\n",
      "Epoch 28/30\n",
      "181/181 [==============================] - 39s 216ms/step - loss: 0.4453 - accuracy: 0.8271\n",
      "Epoch 29/30\n",
      "181/181 [==============================] - 41s 227ms/step - loss: 0.4092 - accuracy: 0.8487\n",
      "Epoch 30/30\n",
      "181/181 [==============================] - 32s 175ms/step - loss: 0.4017 - accuracy: 0.8482\n"
     ]
    },
    {
     "data": {
      "text/plain": [
       "<keras.callbacks.History at 0x1f20dfd5b40>"
      ]
     },
     "execution_count": 9,
     "metadata": {},
     "output_type": "execute_result"
    }
   ],
   "source": [
    "model.fit(\n",
    "    train_generator,\n",
    "    epochs=30\n",
    ")"
   ]
  },
  {
   "cell_type": "code",
   "execution_count": 11,
   "metadata": {},
   "outputs": [
    {
     "name": "stdout",
     "output_type": "stream",
     "text": [
      "Found 5778 images belonging to 5 classes.\n",
      "Found 0 images belonging to 5 classes.\n",
      "Found 1656 images belonging to 5 classes.\n",
      "52/52 [==============================] - 13s 162ms/step - loss: 1.4975 - accuracy: 0.5157\n"
     ]
    },
    {
     "data": {
      "text/plain": [
       "[1.497456431388855, 0.5157004594802856]"
      ]
     },
     "execution_count": 11,
     "metadata": {},
     "output_type": "execute_result"
    }
   ],
   "source": [
    "train_generator, validation_generator, test_generator = define_generators()\n",
    "model = load_model('model_v1_ALL_new.h5')\n",
    "model.evaluate(test_generator)"
   ]
  },
  {
   "cell_type": "code",
   "execution_count": 10,
   "metadata": {},
   "outputs": [],
   "source": [
    "save_model(model, \"DenseNet201.h5\")"
   ]
  },
  {
   "cell_type": "code",
   "execution_count": 13,
   "metadata": {},
   "outputs": [
    {
     "name": "stdout",
     "output_type": "stream",
     "text": [
      "Collecting matplotlib\n",
      "  Downloading matplotlib-3.8.4-cp310-cp310-win_amd64.whl.metadata (5.9 kB)\n",
      "Collecting contourpy>=1.0.1 (from matplotlib)\n",
      "  Downloading contourpy-1.2.1-cp310-cp310-win_amd64.whl.metadata (5.8 kB)\n",
      "Collecting cycler>=0.10 (from matplotlib)\n",
      "  Using cached cycler-0.12.1-py3-none-any.whl.metadata (3.8 kB)\n",
      "Collecting fonttools>=4.22.0 (from matplotlib)\n",
      "  Downloading fonttools-4.51.0-cp310-cp310-win_amd64.whl.metadata (162 kB)\n",
      "     ---------------------------------------- 0.0/162.8 kB ? eta -:--:--\n",
      "     -- ------------------------------------- 10.2/162.8 kB ? eta -:--:--\n",
      "     -- ------------------------------------- 10.2/162.8 kB ? eta -:--:--\n",
      "     ------------- ----------------------- 61.4/162.8 kB 656.4 kB/s eta 0:00:01\n",
      "     ---------------------------- --------- 122.9/162.8 kB 1.0 MB/s eta 0:00:01\n",
      "     -------------------------------------- 162.8/162.8 kB 1.1 MB/s eta 0:00:00\n",
      "Collecting kiwisolver>=1.3.1 (from matplotlib)\n",
      "  Downloading kiwisolver-1.4.5-cp310-cp310-win_amd64.whl.metadata (6.5 kB)\n",
      "Requirement already satisfied: numpy>=1.21 in c:\\users\\admin\\anaconda3\\envs\\tf_new\\lib\\site-packages (from matplotlib) (1.26.4)\n",
      "Requirement already satisfied: packaging>=20.0 in c:\\users\\admin\\anaconda3\\envs\\tf_new\\lib\\site-packages (from matplotlib) (23.2)\n",
      "Requirement already satisfied: pillow>=8 in c:\\users\\admin\\anaconda3\\envs\\tf_new\\lib\\site-packages (from matplotlib) (10.3.0)\n",
      "Collecting pyparsing>=2.3.1 (from matplotlib)\n",
      "  Using cached pyparsing-3.1.2-py3-none-any.whl.metadata (5.1 kB)\n",
      "Requirement already satisfied: python-dateutil>=2.7 in c:\\users\\admin\\anaconda3\\envs\\tf_new\\lib\\site-packages (from matplotlib) (2.8.2)\n",
      "Requirement already satisfied: six>=1.5 in c:\\users\\admin\\anaconda3\\envs\\tf_new\\lib\\site-packages (from python-dateutil>=2.7->matplotlib) (1.16.0)\n",
      "Downloading matplotlib-3.8.4-cp310-cp310-win_amd64.whl (7.7 MB)\n",
      "   ---------------------------------------- 0.0/7.7 MB ? eta -:--:--\n",
      "    --------------------------------------- 0.1/7.7 MB 6.8 MB/s eta 0:00:02\n",
      "   - -------------------------------------- 0.2/7.7 MB 3.0 MB/s eta 0:00:03\n",
      "   -- ------------------------------------- 0.4/7.7 MB 4.4 MB/s eta 0:00:02\n",
      "   --- ------------------------------------ 0.6/7.7 MB 4.1 MB/s eta 0:00:02\n",
      "   --- ------------------------------------ 0.7/7.7 MB 4.2 MB/s eta 0:00:02\n",
      "   ---- ----------------------------------- 0.8/7.7 MB 3.9 MB/s eta 0:00:02\n",
      "   ---- ----------------------------------- 0.9/7.7 MB 3.8 MB/s eta 0:00:02\n",
      "   ----- ---------------------------------- 1.0/7.7 MB 3.4 MB/s eta 0:00:02\n",
      "   ------ --------------------------------- 1.3/7.7 MB 4.0 MB/s eta 0:00:02\n",
      "   ------- -------------------------------- 1.4/7.7 MB 4.0 MB/s eta 0:00:02\n",
      "   ------- -------------------------------- 1.5/7.7 MB 3.7 MB/s eta 0:00:02\n",
      "   -------- ------------------------------- 1.6/7.7 MB 3.7 MB/s eta 0:00:02\n",
      "   --------- ------------------------------ 1.7/7.7 MB 3.7 MB/s eta 0:00:02\n",
      "   ---------- ----------------------------- 1.9/7.7 MB 3.7 MB/s eta 0:00:02\n",
      "   ----------- ---------------------------- 2.1/7.7 MB 3.9 MB/s eta 0:00:02\n",
      "   ----------- ---------------------------- 2.3/7.7 MB 3.9 MB/s eta 0:00:02\n",
      "   ------------ --------------------------- 2.5/7.7 MB 3.9 MB/s eta 0:00:02\n",
      "   -------------- ------------------------- 2.7/7.7 MB 4.1 MB/s eta 0:00:02\n",
      "   --------------- ------------------------ 2.9/7.7 MB 4.2 MB/s eta 0:00:02\n",
      "   ---------------- ----------------------- 3.2/7.7 MB 4.4 MB/s eta 0:00:02\n",
      "   ----------------- ---------------------- 3.3/7.7 MB 4.2 MB/s eta 0:00:02\n",
      "   ----------------- ---------------------- 3.4/7.7 MB 4.2 MB/s eta 0:00:02\n",
      "   ------------------ --------------------- 3.5/7.7 MB 4.1 MB/s eta 0:00:02\n",
      "   ------------------- -------------------- 3.7/7.7 MB 4.2 MB/s eta 0:00:01\n",
      "   -------------------- ------------------- 3.8/7.7 MB 4.2 MB/s eta 0:00:01\n",
      "   --------------------- ------------------ 4.1/7.7 MB 4.3 MB/s eta 0:00:01\n",
      "   ---------------------- ----------------- 4.3/7.7 MB 4.4 MB/s eta 0:00:01\n",
      "   ----------------------- ---------------- 4.5/7.7 MB 4.4 MB/s eta 0:00:01\n",
      "   ------------------------ --------------- 4.7/7.7 MB 4.5 MB/s eta 0:00:01\n",
      "   ------------------------- -------------- 4.9/7.7 MB 4.5 MB/s eta 0:00:01\n",
      "   -------------------------- ------------- 5.1/7.7 MB 4.5 MB/s eta 0:00:01\n",
      "   --------------------------- ------------ 5.2/7.7 MB 4.5 MB/s eta 0:00:01\n",
      "   ---------------------------- ----------- 5.4/7.7 MB 4.5 MB/s eta 0:00:01\n",
      "   ----------------------------- ---------- 5.6/7.7 MB 4.5 MB/s eta 0:00:01\n",
      "   ----------------------------- ---------- 5.7/7.7 MB 4.5 MB/s eta 0:00:01\n",
      "   ------------------------------- -------- 5.9/7.7 MB 4.5 MB/s eta 0:00:01\n",
      "   ------------------------------- -------- 6.1/7.7 MB 4.5 MB/s eta 0:00:01\n",
      "   --------------------------------- ------ 6.3/7.7 MB 4.6 MB/s eta 0:00:01\n",
      "   ---------------------------------- ----- 6.5/7.7 MB 4.6 MB/s eta 0:00:01\n",
      "   ----------------------------------- ---- 6.7/7.7 MB 4.6 MB/s eta 0:00:01\n",
      "   ----------------------------------- ---- 6.9/7.7 MB 4.6 MB/s eta 0:00:01\n",
      "   ------------------------------------ --- 7.0/7.7 MB 4.6 MB/s eta 0:00:01\n",
      "   ------------------------------------- -- 7.2/7.7 MB 4.6 MB/s eta 0:00:01\n",
      "   ---------------------------------------  7.5/7.7 MB 4.7 MB/s eta 0:00:01\n",
      "   ---------------------------------------  7.6/7.7 MB 4.7 MB/s eta 0:00:01\n",
      "   ---------------------------------------- 7.7/7.7 MB 4.7 MB/s eta 0:00:00\n",
      "Downloading contourpy-1.2.1-cp310-cp310-win_amd64.whl (187 kB)\n",
      "   ---------------------------------------- 0.0/187.5 kB ? eta -:--:--\n",
      "   ---------------------------- ----------- 133.1/187.5 kB 3.8 MB/s eta 0:00:01\n",
      "   ---------------------------------------- 187.5/187.5 kB 3.8 MB/s eta 0:00:00\n",
      "Using cached cycler-0.12.1-py3-none-any.whl (8.3 kB)\n",
      "Downloading fonttools-4.51.0-cp310-cp310-win_amd64.whl (2.2 MB)\n",
      "   ---------------------------------------- 0.0/2.2 MB ? eta -:--:--\n",
      "   -- ------------------------------------- 0.1/2.2 MB 6.4 MB/s eta 0:00:01\n",
      "   ----- ---------------------------------- 0.3/2.2 MB 5.0 MB/s eta 0:00:01\n",
      "   --------- ------------------------------ 0.5/2.2 MB 5.2 MB/s eta 0:00:01\n",
      "   -------------- ------------------------- 0.8/2.2 MB 6.1 MB/s eta 0:00:01\n",
      "   ----------------- ---------------------- 0.9/2.2 MB 5.9 MB/s eta 0:00:01\n",
      "   -------------------- ------------------- 1.1/2.2 MB 5.5 MB/s eta 0:00:01\n",
      "   ----------------------- ---------------- 1.3/2.2 MB 5.3 MB/s eta 0:00:01\n",
      "   ------------------------ --------------- 1.3/2.2 MB 4.7 MB/s eta 0:00:01\n",
      "   -------------------------- ------------- 1.5/2.2 MB 4.6 MB/s eta 0:00:01\n",
      "   ----------------------------- ---------- 1.6/2.2 MB 4.7 MB/s eta 0:00:01\n",
      "   --------------------------------- ------ 1.8/2.2 MB 4.6 MB/s eta 0:00:01\n",
      "   ----------------------------------- ---- 2.0/2.2 MB 4.5 MB/s eta 0:00:01\n",
      "   -------------------------------------- - 2.1/2.2 MB 4.5 MB/s eta 0:00:01\n",
      "   ---------------------------------------- 2.2/2.2 MB 4.4 MB/s eta 0:00:00\n",
      "Downloading kiwisolver-1.4.5-cp310-cp310-win_amd64.whl (56 kB)\n",
      "   ---------------------------------------- 0.0/56.1 kB ? eta -:--:--\n",
      "   ---------------------------------------- 56.1/56.1 kB 2.9 MB/s eta 0:00:00\n",
      "Using cached pyparsing-3.1.2-py3-none-any.whl (103 kB)\n",
      "Installing collected packages: pyparsing, kiwisolver, fonttools, cycler, contourpy, matplotlib\n",
      "Successfully installed contourpy-1.2.1 cycler-0.12.1 fonttools-4.51.0 kiwisolver-1.4.5 matplotlib-3.8.4 pyparsing-3.1.2\n"
     ]
    }
   ],
   "source": [
    "!pip install matplotlib"
   ]
  },
  {
   "cell_type": "code",
   "execution_count": 17,
   "metadata": {},
   "outputs": [
    {
     "name": "stdout",
     "output_type": "stream",
     "text": [
      "Collecting scikit-learn\n",
      "  Downloading scikit_learn-1.4.2-cp310-cp310-win_amd64.whl.metadata (11 kB)\n",
      "Requirement already satisfied: numpy>=1.19.5 in c:\\users\\admin\\anaconda3\\envs\\tf_new\\lib\\site-packages (from scikit-learn) (1.26.4)\n",
      "Requirement already satisfied: scipy>=1.6.0 in c:\\users\\admin\\anaconda3\\envs\\tf_new\\lib\\site-packages (from scikit-learn) (1.13.0)\n",
      "Collecting joblib>=1.2.0 (from scikit-learn)\n",
      "  Using cached joblib-1.4.0-py3-none-any.whl.metadata (5.4 kB)\n",
      "Collecting threadpoolctl>=2.0.0 (from scikit-learn)\n",
      "  Using cached threadpoolctl-3.4.0-py3-none-any.whl.metadata (13 kB)\n",
      "Downloading scikit_learn-1.4.2-cp310-cp310-win_amd64.whl (10.6 MB)\n",
      "   ---------------------------------------- 0.0/10.6 MB ? eta -:--:--\n",
      "   ---------------------------------------- 0.0/10.6 MB ? eta -:--:--\n",
      "   ---------------------------------------- 0.0/10.6 MB 435.7 kB/s eta 0:00:25\n",
      "   ---------------------------------------- 0.0/10.6 MB 393.8 kB/s eta 0:00:27\n",
      "   ---------------------------------------- 0.1/10.6 MB 744.7 kB/s eta 0:00:15\n",
      "    --------------------------------------- 0.1/10.6 MB 853.3 kB/s eta 0:00:13\n",
      "    --------------------------------------- 0.2/10.6 MB 1.1 MB/s eta 0:00:10\n",
      "    --------------------------------------- 0.3/10.6 MB 1.2 MB/s eta 0:00:09\n",
      "   - -------------------------------------- 0.5/10.6 MB 1.7 MB/s eta 0:00:06\n",
      "   -- ------------------------------------- 0.6/10.6 MB 2.0 MB/s eta 0:00:06\n",
      "   -- ------------------------------------- 0.6/10.6 MB 1.8 MB/s eta 0:00:06\n",
      "   -- ------------------------------------- 0.8/10.6 MB 2.0 MB/s eta 0:00:05\n",
      "   --- ------------------------------------ 0.9/10.6 MB 2.3 MB/s eta 0:00:05\n",
      "   ---- ----------------------------------- 1.1/10.6 MB 2.5 MB/s eta 0:00:04\n",
      "   ---- ----------------------------------- 1.2/10.6 MB 2.5 MB/s eta 0:00:04\n",
      "   ----- ---------------------------------- 1.5/10.6 MB 2.9 MB/s eta 0:00:04\n",
      "   ------ --------------------------------- 1.8/10.6 MB 3.1 MB/s eta 0:00:03\n",
      "   ------- -------------------------------- 2.0/10.6 MB 3.4 MB/s eta 0:00:03\n",
      "   -------- ------------------------------- 2.2/10.6 MB 3.5 MB/s eta 0:00:03\n",
      "   --------- ------------------------------ 2.4/10.6 MB 3.6 MB/s eta 0:00:03\n",
      "   --------- ------------------------------ 2.6/10.6 MB 3.7 MB/s eta 0:00:03\n",
      "   ---------- ----------------------------- 2.7/10.6 MB 3.6 MB/s eta 0:00:03\n",
      "   ---------- ----------------------------- 2.8/10.6 MB 3.6 MB/s eta 0:00:03\n",
      "   ---------- ----------------------------- 2.9/10.6 MB 3.5 MB/s eta 0:00:03\n",
      "   ----------- ---------------------------- 3.0/10.6 MB 3.5 MB/s eta 0:00:03\n",
      "   ----------- ---------------------------- 3.2/10.6 MB 3.6 MB/s eta 0:00:03\n",
      "   ------------ --------------------------- 3.3/10.6 MB 3.6 MB/s eta 0:00:03\n",
      "   ------------ --------------------------- 3.4/10.6 MB 3.5 MB/s eta 0:00:03\n",
      "   ------------ --------------------------- 3.4/10.6 MB 3.5 MB/s eta 0:00:03\n",
      "   ------------ --------------------------- 3.4/10.6 MB 3.5 MB/s eta 0:00:03\n",
      "   ------------ --------------------------- 3.4/10.6 MB 3.5 MB/s eta 0:00:03\n",
      "   ------------ --------------------------- 3.4/10.6 MB 3.5 MB/s eta 0:00:03\n",
      "   ------------ --------------------------- 3.4/10.6 MB 3.5 MB/s eta 0:00:03\n",
      "   ---------------- ----------------------- 4.4/10.6 MB 3.8 MB/s eta 0:00:02\n",
      "   ---------------- ----------------------- 4.4/10.6 MB 3.8 MB/s eta 0:00:02\n",
      "   ----------------- ---------------------- 4.5/10.6 MB 3.6 MB/s eta 0:00:02\n",
      "   ----------------- ---------------------- 4.6/10.6 MB 3.6 MB/s eta 0:00:02\n",
      "   ----------------- ---------------------- 4.7/10.6 MB 3.5 MB/s eta 0:00:02\n",
      "   ------------------- -------------------- 5.0/10.6 MB 3.7 MB/s eta 0:00:02\n",
      "   ------------------- -------------------- 5.3/10.6 MB 3.7 MB/s eta 0:00:02\n",
      "   -------------------- ------------------- 5.5/10.6 MB 3.8 MB/s eta 0:00:02\n",
      "   --------------------- ------------------ 5.7/10.6 MB 3.9 MB/s eta 0:00:02\n",
      "   ---------------------- ----------------- 5.9/10.6 MB 3.9 MB/s eta 0:00:02\n",
      "   ----------------------- ---------------- 6.1/10.6 MB 4.0 MB/s eta 0:00:02\n",
      "   ------------------------ --------------- 6.4/10.6 MB 4.0 MB/s eta 0:00:02\n",
      "   ------------------------ --------------- 6.6/10.6 MB 4.0 MB/s eta 0:00:02\n",
      "   ------------------------- -------------- 6.7/10.6 MB 4.1 MB/s eta 0:00:01\n",
      "   ------------------------- -------------- 6.9/10.6 MB 4.1 MB/s eta 0:00:01\n",
      "   -------------------------- ------------- 7.1/10.6 MB 4.1 MB/s eta 0:00:01\n",
      "   --------------------------- ------------ 7.2/10.6 MB 4.1 MB/s eta 0:00:01\n",
      "   --------------------------- ------------ 7.3/10.6 MB 4.0 MB/s eta 0:00:01\n",
      "   --------------------------- ------------ 7.4/10.6 MB 4.0 MB/s eta 0:00:01\n",
      "   ---------------------------- ----------- 7.5/10.6 MB 4.0 MB/s eta 0:00:01\n",
      "   ----------------------------- ---------- 7.7/10.6 MB 4.1 MB/s eta 0:00:01\n",
      "   ----------------------------- ---------- 7.9/10.6 MB 4.1 MB/s eta 0:00:01\n",
      "   ------------------------------ --------- 8.1/10.6 MB 4.1 MB/s eta 0:00:01\n",
      "   ------------------------------- -------- 8.2/10.6 MB 4.1 MB/s eta 0:00:01\n",
      "   ------------------------------- -------- 8.4/10.6 MB 4.1 MB/s eta 0:00:01\n",
      "   -------------------------------- ------- 8.5/10.6 MB 4.1 MB/s eta 0:00:01\n",
      "   -------------------------------- ------- 8.7/10.6 MB 4.1 MB/s eta 0:00:01\n",
      "   --------------------------------- ------ 8.8/10.6 MB 4.0 MB/s eta 0:00:01\n",
      "   --------------------------------- ------ 9.0/10.6 MB 4.1 MB/s eta 0:00:01\n",
      "   ---------------------------------- ----- 9.2/10.6 MB 4.1 MB/s eta 0:00:01\n",
      "   ----------------------------------- ---- 9.3/10.6 MB 4.1 MB/s eta 0:00:01\n",
      "   ----------------------------------- ---- 9.5/10.6 MB 4.1 MB/s eta 0:00:01\n",
      "   ----------------------------------- ---- 9.5/10.6 MB 4.1 MB/s eta 0:00:01\n",
      "   ------------------------------------ --- 9.7/10.6 MB 4.0 MB/s eta 0:00:01\n",
      "   ------------------------------------ --- 9.8/10.6 MB 4.0 MB/s eta 0:00:01\n",
      "   ------------------------------------- -- 9.9/10.6 MB 4.0 MB/s eta 0:00:01\n",
      "   ------------------------------------- -- 10.0/10.6 MB 4.0 MB/s eta 0:00:01\n",
      "   -------------------------------------- - 10.2/10.6 MB 4.0 MB/s eta 0:00:01\n",
      "   ---------------------------------------  10.4/10.6 MB 4.2 MB/s eta 0:00:01\n",
      "   ---------------------------------------  10.5/10.6 MB 4.3 MB/s eta 0:00:01\n",
      "   ---------------------------------------  10.6/10.6 MB 4.3 MB/s eta 0:00:01\n",
      "   ---------------------------------------- 10.6/10.6 MB 4.3 MB/s eta 0:00:00\n",
      "Using cached joblib-1.4.0-py3-none-any.whl (301 kB)\n",
      "Using cached threadpoolctl-3.4.0-py3-none-any.whl (17 kB)\n",
      "Installing collected packages: threadpoolctl, joblib, scikit-learn\n",
      "Successfully installed joblib-1.4.0 scikit-learn-1.4.2 threadpoolctl-3.4.0\n"
     ]
    }
   ],
   "source": [
    "!pip install -U scikit-learn"
   ]
  },
  {
   "cell_type": "code",
   "execution_count": 1,
   "metadata": {},
   "outputs": [],
   "source": [
    "import os\n",
    "import timeit\n",
    "\n",
    "import matplotlib.pyplot as plt\n",
    "import numpy as np\n",
    "import seaborn as sns\n",
    "import tensorflow as tf\n",
    "from sklearn.metrics import (accuracy_score, balanced_accuracy_score,\n",
    "                             classification_report, confusion_matrix)\n",
    "from sklearn.utils.class_weight import compute_class_weight"
   ]
  },
  {
   "cell_type": "code",
   "execution_count": 2,
   "metadata": {},
   "outputs": [],
   "source": [
    "np.random.seed(12049)"
   ]
  },
  {
   "cell_type": "code",
   "execution_count": 3,
   "metadata": {},
   "outputs": [],
   "source": [
    "def get_plot_loss_acc(model, model_name):\n",
    "    fig = plt.figure()\n",
    "    plt.subplot(2, 1, 1)\n",
    "    plt.plot(model.history.history[\"loss\"])\n",
    "    plt.plot(model.history.history[\"val_loss\"])\n",
    "    plt.title(f\"{model_name} \\n\\n model loss\")\n",
    "    plt.ylabel(\"loss\")\n",
    "    plt.xlabel(\"epoch\")\n",
    "    plt.legend([\"train\", \"valid\"], loc=\"upper right\")\n",
    "\n",
    "    plt.subplot(2, 1, 2)\n",
    "    plt.plot(model.history.history[\"accuracy\"])\n",
    "    plt.plot(model.history.history[\"val_accuracy\"])\n",
    "    plt.title(\"model accuracy\")\n",
    "    plt.ylabel(\"accuracy\")\n",
    "    plt.xlabel(\"epoch\")\n",
    "    plt.legend([\"train\", \"valid\"], loc=\"lower right\")\n",
    "\n",
    "    plt.tight_layout()\n",
    "\n",
    "\n",
    "def compute_confusion_matrix(\n",
    "    ytrue, ypred, class_names, model_name\n",
    "):\n",
    "    cm = confusion_matrix(\n",
    "        y_true=ytrue.labels,\n",
    "        y_pred=np.argmax(ypred, axis=1),\n",
    "    )\n",
    "\n",
    "    cmn = cm.astype(\"float\") / cm.sum(axis=1)[:, np.newaxis]\n",
    "    plt.subplots(figsize=(6, 5))\n",
    "    sns.heatmap(\n",
    "        cmn,\n",
    "        annot=True,\n",
    "        fmt=\".2f\",\n",
    "        cmap=\"Purples\",\n",
    "        xticklabels=class_names,\n",
    "        yticklabels=class_names,\n",
    "    )\n",
    "    plt.title(f\"Confusion Matrix - {model_name}\")\n",
    "    plt.ylabel(\"Actual\")\n",
    "    plt.xlabel(\"Predicted\")\n",
    "    plt.show(block=False)\n",
    "\n",
    "\n",
    "def get_evaluate(data, name, model):\n",
    "    score_model = model.evaluate(data, verbose=1)\n",
    "    print(f\"{name} loss: {score_model[0]:.2f}\")\n",
    "    print(f\"{name} accuracy: {score_model[1]:.2f}\")\n",
    "\n",
    "\n",
    "def get_predict(data, model):\n",
    "    predict_model = model.predict(data)\n",
    "    return predict_model\n",
    "\n",
    "\n",
    "def get_metrics(y_test, y_pred, model_name):\n",
    "    acc = accuracy_score(y_test, y_pred)\n",
    "    bal_acc = balanced_accuracy_score(y_test, y_pred)\n",
    "\n",
    "    print(f\"Accuracy Score - {model_name}: {acc:.2f}\")\n",
    "    print(f\"Balanced Accuracy Score - {model_name}: {bal_acc:.2f}\")\n",
    "    print(\"\\n\")\n",
    "\n",
    "    print(classification_report(y_test, y_pred))"
   ]
  },
  {
   "cell_type": "code",
   "execution_count": 4,
   "metadata": {},
   "outputs": [
    {
     "name": "stdout",
     "output_type": "stream",
     "text": [
      "1/1 [==============================] - 8s 8s/step\n"
     ]
    },
    {
     "data": {
      "image/png": "[encoded data removed]",
      "text/plain": [
       "<Figure size 640x480 with 1 Axes>"
      ]
     },
     "metadata": {},
     "output_type": "display_data"
    }
   ],
   "source": [
    "import tensorflow as tf\n",
    "from tensorflow.keras.models import load_model\n",
    "from tensorflow.keras.preprocessing import image\n",
    "import numpy as np\n",
    "import matplotlib.pyplot as plt\n",
    "import matplotlib.patches as patches\n",
    "\n",
    "# Load the trained model\n",
    "model = load_model('model_v1_ALL_new.h5')\n",
    "\n",
    "# Define the target image size expected by the model\n",
    "target_size = (224, 224)\n",
    "\n",
    "def preprocess_image(image_path, target_size):\n",
    "    img = image.load_img(image_path, target_size=target_size)\n",
    "    img_array = image.img_to_array(img)\n",
    "    img_array = np.expand_dims(img_array, axis=0)\n",
    "    return img_array\n",
    "\n",
    "def predict_image_class(image_path, model, target_size):\n",
    "    # Preprocess the image\n",
    "    processed_image = preprocess_image(image_path, target_size)\n",
    "    \n",
    "    # Generate prediction\n",
    "    prediction = model.predict(processed_image)\n",
    "    \n",
    "    # Get the predicted class index and its corresponding label\n",
    "    predicted_class_index = np.argmax(prediction)\n",
    "    class_labels = ['Class 0', 'Class 1', 'Class 2', 'Class 3', 'Class 4']  # Update with your actual class labels\n",
    "    \n",
    "    predicted_label = class_labels[predicted_class_index]\n",
    "    \n",
    "    return predicted_label\n",
    "\n",
    "# Example usage:\n",
    "user_image_path = r\"E:\\SEM 6\\DL\\Data\\right\\9003406R.png\"\n",
    "predicted_label = predict_image_class(user_image_path, model, target_size)\n",
    "\n",
    "# Load the image for visualization\n",
    "img = image.load_img(user_image_path)\n",
    "img_array = image.img_to_array(img)\n",
    "\n",
    "# Plot the image\n",
    "plt.imshow(img_array.astype(np.uint8))\n",
    "\n",
    "# Display the predicted label as text\n",
    "plt.text(10, 30, f'Predicted Label: {predicted_label}', fontsize=12, color='red', weight='bold')\n",
    "plt.axis('off')  # Turn off axis\n",
    "plt.show()\n"
   ]
  },
  {
   "cell_type": "code",
   "execution_count": 6,
   "metadata": {},
   "outputs": [
    {
     "name": "stdout",
     "output_type": "stream",
     "text": [
      "densenet201\n",
      "global_average_pooling2d\n",
      "batch_normalization\n",
      "dense\n",
      "batch_normalization_1\n",
      "dropout\n",
      "dense_1\n",
      "batch_normalization_2\n",
      "dropout_1\n",
      "dense_2\n"
     ]
    }
   ],
   "source": [
    "# List all layers in the model\n",
    "for layer in model.layers:\n",
    "    print(layer.name)\n"
   ]
  }
 ],
 "metadata": {
  "kaggle": {
   "accelerator": "gpu",
   "dataSources": [
    {
     "datasetId": 1257880,
     "sourceId": 2097406,
     "sourceType": "datasetVersion"
    }
   ],
   "dockerImageVersionId": 30408,
   "isGpuEnabled": true,
   "isInternetEnabled": true,
   "language": "python",
   "sourceType": "notebook"
  },
  "kernelspec": {
   "display_name": "Python 3 (ipykernel)",
   "language": "python",
   "name": "python3"
  },
  "language_info": {
   "codemirror_mode": {
    "name": "ipython",
    "version": 3
   },
   "file_extension": ".py",
   "mimetype": "text/x-python",
   "name": "python",
   "nbconvert_exporter": "python",
   "pygments_lexer": "ipython3",
   "version": "3.10.14"
  }
 },
 "nbformat": 4,
 "nbformat_minor": 4
}
